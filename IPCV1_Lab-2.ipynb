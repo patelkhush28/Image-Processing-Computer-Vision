{
 "cells": [
  {
   "cell_type": "code",
   "execution_count": 16,
   "id": "f1cb0b74",
   "metadata": {},
   "outputs": [],
   "source": [
    "import cv2\n",
    "import matplotlib.pyplot as plt"
   ]
  },
  {
   "cell_type": "code",
   "execution_count": 17,
   "id": "cbfd9a7b",
   "metadata": {},
   "outputs": [],
   "source": [
    "beach=cv2.imread('beach.jpg',0)\n",
    "cv2.imshow('beach',beach)\n",
    "cv2.waitKey(0)\n",
    "cv2.destroyAllWindows()"
   ]
  },
  {
   "cell_type": "code",
   "execution_count": 18,
   "id": "30cb0c41",
   "metadata": {},
   "outputs": [],
   "source": [
    "beach_cn=abs(255-beach)\n",
    "cv2.imshow('beach_cn',beach_cn)\n",
    "cv2.waitKey(0)\n",
    "cv2.destroyAllWindows()"
   ]
  },
  {
   "cell_type": "markdown",
   "id": "3764859a",
   "metadata": {},
   "source": [
    "### Thresholding"
   ]
  },
  {
   "cell_type": "code",
   "execution_count": 19,
   "id": "e9b3f5bb",
   "metadata": {},
   "outputs": [],
   "source": [
    "import numpy as np\n",
    "threshold=90\n",
    "x,y=beach.shape\n",
    "img=np.zeros((x,y))\n",
    "for i in range(x):\n",
    "    for j in range(y):\n",
    "        if(beach[i][j]>threshold):\n",
    "            img[i][j]=255"
   ]
  },
  {
   "cell_type": "code",
   "execution_count": 21,
   "id": "578b3416",
   "metadata": {},
   "outputs": [],
   "source": [
    "cv2.imshow('beach',img)\n",
    "cv2.waitKey(0)\n",
    "cv2.destroyAllWindows()"
   ]
  },
  {
   "cell_type": "code",
   "execution_count": 33,
   "id": "05deb46a",
   "metadata": {},
   "outputs": [],
   "source": [
    "x,y=beach.shape\n",
    "img_gls=np.zeros((x,y))\n",
    "for i in range(x):\n",
    "    for j in range(y):\n",
    "        if(beach[i][j]<150 and beach[i][j]>50):\n",
    "            img_gls[i][j]=255\n",
    "        else:\n",
    "            img_gls[i][j]=beach[i][j]"
   ]
  },
  {
   "cell_type": "code",
   "execution_count": 34,
   "id": "062f9ad2",
   "metadata": {},
   "outputs": [],
   "source": [
    "cv2.imshow('beach',img_gls)\n",
    "cv2.waitKey(0)\n",
    "cv2.destroyAllWindows()"
   ]
  },
  {
   "cell_type": "code",
   "execution_count": 35,
   "id": "75b57fd0",
   "metadata": {},
   "outputs": [],
   "source": [
    "x,y=beach.shape\n",
    "img_gls=np.zeros((x,y))\n",
    "for i in range(x):\n",
    "    for j in range(y):\n",
    "        if(beach[i][j]<150 and beach[i][j]>50):\n",
    "            img_gls[i][j]=255\n",
    "        else:\n",
    "            img_gls[i][j]=0"
   ]
  },
  {
   "cell_type": "code",
   "execution_count": 36,
   "id": "93a5d057",
   "metadata": {},
   "outputs": [],
   "source": [
    "cv2.imshow('beach',img_gls)\n",
    "cv2.waitKey(0)\n",
    "cv2.destroyAllWindows()"
   ]
  },
  {
   "cell_type": "code",
   "execution_count": null,
   "id": "1351cff7",
   "metadata": {},
   "outputs": [],
   "source": []
  }
 ],
 "metadata": {
  "kernelspec": {
   "display_name": "Python 3 (ipykernel)",
   "language": "python",
   "name": "python3"
  },
  "language_info": {
   "codemirror_mode": {
    "name": "ipython",
    "version": 3
   },
   "file_extension": ".py",
   "mimetype": "text/x-python",
   "name": "python",
   "nbconvert_exporter": "python",
   "pygments_lexer": "ipython3",
   "version": "3.9.12"
  }
 },
 "nbformat": 4,
 "nbformat_minor": 5
}
