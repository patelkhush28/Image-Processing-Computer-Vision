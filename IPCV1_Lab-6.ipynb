{
 "cells": [
  {
   "cell_type": "code",
   "execution_count": 14,
   "id": "35ac43c9",
   "metadata": {},
   "outputs": [],
   "source": [
    "import numpy as np\n",
    "import cv2\n",
    "import matplotlib.pyplot as plt"
   ]
  },
  {
   "cell_type": "code",
   "execution_count": 15,
   "id": "f8aa9ea8",
   "metadata": {},
   "outputs": [],
   "source": [
    "beach=cv2.imread('download.png',0)\n",
    "cv2.imshow(\"Women\",beach)\n",
    "cv2.waitKey(0)\n",
    "cv2.destroyAllWindows()"
   ]
  },
  {
   "cell_type": "code",
   "execution_count": 16,
   "id": "dd05aafa",
   "metadata": {},
   "outputs": [
    {
     "name": "stdout",
     "output_type": "stream",
     "text": [
      "206 78\n"
     ]
    }
   ],
   "source": [
    "output_img=np.zeros(beach.shape)\n",
    "rmax=beach.max()\n",
    "rmin=beach.min()\n",
    "print(rmax,rmin)\n",
    "c=255/(rmax-rmin)"
   ]
  },
  {
   "cell_type": "code",
   "execution_count": 17,
   "id": "2b5d9fd4",
   "metadata": {},
   "outputs": [],
   "source": [
    "for i in range(beach.shape[0]):\n",
    "    for j in range(beach.shape[1]):\n",
    "        r=beach[i][j]\n",
    "        output_img[i][j]=int(c*(r-rmin))\n",
    "cv2.imshow(\"Women\",output_img)\n",
    "cv2.waitKey(0)\n",
    "cv2.destroyAllWindows()"
   ]
  },
  {
   "cell_type": "code",
   "execution_count": 18,
   "id": "8643f780",
   "metadata": {},
   "outputs": [
    {
     "name": "stdout",
     "output_type": "stream",
     "text": [
      "255.0 0.0\n"
     ]
    }
   ],
   "source": [
    "print(output_img.max(),output_img.min())"
   ]
  },
  {
   "cell_type": "code",
   "execution_count": 19,
   "id": "21577dc9",
   "metadata": {},
   "outputs": [],
   "source": [
    "def hist_plot(img):\n",
    "    count=[]\n",
    "    r=[]\n",
    "    for k in range(0,256):\n",
    "        c=0\n",
    "        for i in range(img.shape[0]):\n",
    "            for j in range(img.shape[1]):\n",
    "                if(img[i][j]==k):\n",
    "                    c+=1\n",
    "        count.append(c)\n",
    "        r.append(k)\n",
    "    return r,count"
   ]
  },
  {
   "cell_type": "code",
   "execution_count": 22,
   "id": "c86ef694",
   "metadata": {},
   "outputs": [
    {
     "data": {
      "text/plain": [
       "<StemContainer object of 3 artists>"
      ]
     },
     "execution_count": 22,
     "metadata": {},
     "output_type": "execute_result"
    },
    {
     "data": {
      "image/png": "[encoded data removed]",
      "text/plain": [
       "<Figure size 432x288 with 1 Axes>"
      ]
     },
     "metadata": {
      "needs_background": "light"
     },
     "output_type": "display_data"
    }
   ],
   "source": [
    "r1,c1=hist_plot(beach)\n",
    "plt.stem(r1,c1)"
   ]
  },
  {
   "cell_type": "code",
   "execution_count": 21,
   "id": "fc35c545",
   "metadata": {},
   "outputs": [
    {
     "data": {
      "text/plain": [
       "<StemContainer object of 3 artists>"
      ]
     },
     "execution_count": 21,
     "metadata": {},
     "output_type": "execute_result"
    },
    {
     "data": {
      "image/png": "[encoded data removed]",
      "text/plain": [
       "<Figure size 432x288 with 1 Axes>"
      ]
     },
     "metadata": {
      "needs_background": "light"
     },
     "output_type": "display_data"
    }
   ],
   "source": [
    "r2,c2=hist_plot(output_img)\n",
    "plt.stem(r2,c2)"
   ]
  },
  {
   "cell_type": "code",
   "execution_count": null,
   "id": "06e8330d",
   "metadata": {},
   "outputs": [],
   "source": []
  }
 ],
 "metadata": {
  "kernelspec": {
   "display_name": "Python 3 (ipykernel)",
   "language": "python",
   "name": "python3"
  },
  "language_info": {
   "codemirror_mode": {
    "name": "ipython",
    "version": 3
   },
   "file_extension": ".py",
   "mimetype": "text/x-python",
   "name": "python",
   "nbconvert_exporter": "python",
   "pygments_lexer": "ipython3",
   "version": "3.9.12"
  }
 },
 "nbformat": 4,
 "nbformat_minor": 5
}
